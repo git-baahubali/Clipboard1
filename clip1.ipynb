{
 "cells": [
  {
   "cell_type": "code",
   "execution_count": null,
   "id": "7c67b800",
   "metadata": {
    "vscode": {
     "languageId": "plaintext"
    }
   },
   "outputs": [],
   "source": [
    "def normalize_node(node):\n",
    "    # combine paragraphs under each section into one content string\n",
    "    paragraphs = [child[\"text\"] for child in node.get(\"children\", []) if child[\"type\"] == \"paragraph\"]\n",
    "    node[\"content\"] = \"\\n\".join(paragraphs)\n",
    "\n",
    "    # recursively normalize children\n",
    "    new_children = []\n",
    "    for child in node.get(\"children\", []):\n",
    "        if child[\"type\"] == \"section\":\n",
    "            new_children.append(normalize_node(child))\n",
    "    node[\"children\"] = new_children\n",
    "    return node\n"
   ]
  },
  {
   "cell_type": "markdown",
   "id": "6ae39f8f",
   "metadata": {},
   "source": [
    "# 1. Extract structured hierarchy\n",
    "nested = build_nested_structure(\"sample_SOP_structure_corrected.docx\")\n",
    "\n",
    "# 2. Normalize for RAPTOR (content merge, recursive cleanup)\n",
    "normalized_tree = [normalize_node(node) for node in nested]\n",
    "\n",
    "# 3. (Optional) Save or feed directly into RAPTOR\n",
    "with open(\"normalized_sop.json\", \"w\", encoding=\"utf-8\") as f:\n",
    "    json.dump(normalized_tree, f, indent=2, ensure_ascii=False)\n"
   ]
  },
  {
   "cell_type": "code",
   "execution_count": null,
   "id": "4eb27d5e",
   "metadata": {
    "vscode": {
     "languageId": "plaintext"
    }
   },
   "outputs": [],
   "source": []
  }
 ],
 "metadata": {
  "language_info": {
   "name": "python"
  }
 },
 "nbformat": 4,
 "nbformat_minor": 5
}
